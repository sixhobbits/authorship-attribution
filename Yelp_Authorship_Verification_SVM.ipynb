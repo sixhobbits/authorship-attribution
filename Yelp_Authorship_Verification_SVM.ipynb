{
 "cells": [
  {
   "cell_type": "code",
   "execution_count": 1,
   "metadata": {
    "collapsed": true
   },
   "outputs": [],
   "source": [
    "from collections import Counter\n",
    "\n",
    "import json"
   ]
  },
  {
   "cell_type": "code",
   "execution_count": 2,
   "metadata": {},
   "outputs": [
    {
     "name": "stdout",
     "output_type": "stream",
     "text": [
      "CPU times: user 39 s, sys: 4.73 s, total: 43.7 s\n",
      "Wall time: 43.2 s\n"
     ]
    }
   ],
   "source": [
    "%%time\n",
    "reviews = []\n",
    "with open(\"yelp_academic_dataset_review.json\") as f:\n",
    "    for line in f:\n",
    "        reviews.append(json.loads(line))"
   ]
  },
  {
   "cell_type": "code",
   "execution_count": 5,
   "metadata": {},
   "outputs": [
    {
     "name": "stdout",
     "output_type": "stream",
     "text": [
      "{'cool': 0, 'useful': 0, 'funny': 0, 'review_id': 'NxL8SIC5yqOdnlXCg18IBg', 'business_id': '2aFiy99vNLklCx3T_tGS9A', 'stars': 5, 'user_id': 'KpkOkG6RIf4Ra25Lhhxf1A', 'text': \"If you enjoy service by someone who is as competent as he is personable, I would recommend Corey Kaplan highly. The time he has spent here has been very productive and working with him educational and enjoyable. I hope not to need him again (though this is highly unlikely) but knowing he is there if I do is very nice. By the way, I'm not from El Centro, CA. but Scottsdale, AZ.\", 'date': '2011-10-10', 'type': 'review'}\n"
     ]
    }
   ],
   "source": [
    "print(reviews[0])"
   ]
  },
  {
   "cell_type": "code",
   "execution_count": 28,
   "metadata": {
    "collapsed": true
   },
   "outputs": [],
   "source": [
    "long_reviews = [x for x in reviews if x['text'].count(\" \") > 300]"
   ]
  },
  {
   "cell_type": "code",
   "execution_count": 35,
   "metadata": {
    "collapsed": true
   },
   "outputs": [],
   "source": [
    "author_counts = Counter([review['user_id'] for review in long_reviews])"
   ]
  },
  {
   "cell_type": "code",
   "execution_count": 36,
   "metadata": {
    "collapsed": true
   },
   "outputs": [],
   "source": [
    "no_unique_authors = [x for x in long_reviews if author_counts[x['user_id']] > 1]"
   ]
  },
  {
   "cell_type": "code",
   "execution_count": 37,
   "metadata": {},
   "outputs": [
    {
     "data": {
      "text/plain": [
       "180085"
      ]
     },
     "execution_count": 37,
     "metadata": {},
     "output_type": "execute_result"
    }
   ],
   "source": [
    "len(no_unique_authors)"
   ]
  },
  {
   "cell_type": "code",
   "execution_count": 38,
   "metadata": {
    "collapsed": true
   },
   "outputs": [],
   "source": [
    "# take exactly two of each author"
   ]
  },
  {
   "cell_type": "code",
   "execution_count": 39,
   "metadata": {
    "collapsed": true
   },
   "outputs": [],
   "source": [
    "# {author_id: [review1, review2]}\n",
    "author_review = {}\n",
    "\n",
    "for review in no_unique_authors:\n",
    "    uid = review['user_id']\n",
    "    if uid in author_review:\n",
    "        if len(author_review[uid]) == 1:\n",
    "            author_review[uid].append(review)\n",
    "    else:\n",
    "        author_review[uid] = [review]"
   ]
  },
  {
   "cell_type": "code",
   "execution_count": 40,
   "metadata": {},
   "outputs": [
    {
     "data": {
      "text/plain": [
       "True"
      ]
     },
     "execution_count": 40,
     "metadata": {},
     "output_type": "execute_result"
    }
   ],
   "source": [
    "counts = [len(author_review[k]) for k in author_review]\n",
    "all([c == 2 for c in counts])"
   ]
  },
  {
   "cell_type": "code",
   "execution_count": 41,
   "metadata": {},
   "outputs": [
    {
     "data": {
      "text/plain": [
       "30930"
      ]
     },
     "execution_count": 41,
     "metadata": {},
     "output_type": "execute_result"
    }
   ],
   "source": [
    "len(author_review)"
   ]
  },
  {
   "cell_type": "code",
   "execution_count": 42,
   "metadata": {
    "collapsed": true
   },
   "outputs": [],
   "source": [
    "known_texts = []\n",
    "unknown_texts = []\n",
    "\n",
    "for author in author_review:\n",
    "    total_texts = len(author_review[author])\n",
    "    half_texts = int(total_texts/2)\n",
    "    total_texts = half_texts * 2  # remove last one if odd\n",
    "    known_texts += [review['text'] for review in author_review[author][:half_texts]]\n",
    "    unknown_texts += [review['text'] for review in author_review[author][half_texts:total_texts]]"
   ]
  },
  {
   "cell_type": "code",
   "execution_count": 43,
   "metadata": {},
   "outputs": [
    {
     "data": {
      "text/plain": [
       "'It had been about a year and a half since I last saw her, but she came blazing back into my life on my holiday trip to Vegas. Without much debate, it was agreed that we would spend Christmas day out in the desert to celebrate our happy reunion. I felt the winter desert chill under my jacket as the sun began its daily journey below the horizon. And she, dressed in green, looked as beautiful as the last time I saw her. She had not changed one bit, still living life like it would burn out within the span of a half hour\\'s time. Like always, she stormed back into my life and took over, burning my lips with her kiss and devastating my emotions with her words. In her presence, every fleeting thought escaped into a rabbit hole into which I felt compelled to pursue with singular obsession and undivided attention. Why was the desert so brown? Why was this road that we were on so long and windy? And what the hell did I do with my meager existence in the years 2002 and 2003? Time slowed and every possible outcome which could result from our actions became all the more manifestable.\\n\\nAn entire day spent with her left me drained and unable - or unwilling - to move an inch when I finally went back to the hotel. After a very restful slumber, I awoke in the morning and decided that one day was enough. I could not be with her again for my last day in Vegas. She left in me a need of recovery and triggered an unexpected feeling of homesickness. During dinner that next day, I noticed a book that the bartender had at the bar titled simply \"PDT\". Upon inquiry, I found that it was indeed a reference to the bar in East Village. The bartender said he loved the drinks in the book and I asked if there were any place like that in Vegas. He lamented that sadly there aren\\'t any, but there was a particular bar-restaurant which made prohibition-era and classic cocktails. What better way to quench my homesickness? Off to Herbs and Rye I went.\\n\\nHerbs and Rye was not located on the Strip, and it was definitely not within walking distance from the Strip, guaranteeing an establishment that wasn\\'t inundated with tourists. It was the night after Christmas day, and the restaurant didn\\'t have many customers. A lone waitress and the owner-bartender staffed the place. The mood was relaxing and and the lighting dim. I skipped the food menu and flipped to the drinks. Customers can easily tell that the owner was passionate about classic cocktails from what was offered on the drink menu. The drinks were divided into eras in which the drinks were popularised, including descriptions of the eras and history of each drink. Made with absinthe, of course I first had to order a Sazerac. Each sip of this clutched at my throat deliciously herbal and bitter. Next I ordered a Brown Derby, which I\\'ve never had before. Who knew honey and grapefruit could go so well together? With the bourbon, it made for a full-bodied drink with contrasting flavours. I must profess I liked the Brown Derby more. While I drank, I made conversations with the friendly owner about drinks and food.\\n\\nHerbs and Rye is definitely a restaurant I will be visiting again the next time I\\'m in Vegas, and I recommend it highly. My only regret was that the drinks, while delicious, were not made strong enough for my taste.'"
      ]
     },
     "execution_count": 43,
     "metadata": {},
     "output_type": "execute_result"
    }
   ],
   "source": [
    "known_texts[245]"
   ]
  },
  {
   "cell_type": "code",
   "execution_count": 44,
   "metadata": {},
   "outputs": [
    {
     "data": {
      "text/plain": [
       "\"Wow Hopper Hut.  Where do I begin?  The food here was awesome.  My sister and I visited Toronto recently and I had started a thread in the Toronto Talk page asking for suggestions on restaurants to try.  Kat F chimed in to say that she has a List Of Things For New Yorkers To Do In Toronto list.  Hahhah!  It's Yelp sarcasm.  Very funny.\\n\\nBut wait.  She wasn't kidding.  She really does have such a list.  And it's got 28 items on it.  At the time of this review, Kat F has 101 lists.  She is out of control with those lists.  If it is possible to have lists of lists, she'd probably have a few of those, too.\\n\\nAnd so it was, from this list I picked out Hopper Hut.  I have never had Sri Lankan food before, and neither has my aunt, two cousins, and my sister.  Altogether there were five of us ready to try Sri Lankan food for the first time.  We had no idea what to expect.  A few of us thought it would be like Indian food.  But there are different regional varieties of Indian food, I maintained.  And I wondered, to what kind of Indian food exactly would it be similar?  We arrived at the restaurant on a Tuesday night and it wasn't busy at all.  The space inside Hopper Hut is not big and there were two or three other tables of people eating.  \\n\\nWe sat down and told the waiter than none of us had ever had Sri Lankan food before.  Very friendly, and patient in explaining some of the dishes to us, he was able to immediately give us suggestions on what to try.  Egg Hoppers, Mutton Lampries, Kothu Rotti with chicken, and Masala Dosai.  Hoppers are a Sri Lankan specialty and they were also the namesake of the restaurant itself.  So what is a hopper?  It is difficult to describe, but I'll try: a bowl-shaped thin-pancake made with rice flour.  I think it's cooked by frying.  Confused?  Ok go look at a picture.  The Egg Hopper is a hopper that is cooked with an egg fried in the middle, and it is quite a tasty delight.  The Masala Dosai had what looked like a very long rolled-up crepe along with sauces to dip, and the Kathu Rotti with chicken was a flavourful and spicy dry curry dish.  It was the Mutton Lampries that stole my heart though.  This lamb and rice dish with a boiled egg wrapped in banana leaves was delicious, meaty, and spicy.  My mouth is watering right now thinking about it while writing this review. \\n\\nI now have a mission - to find good Sri Lankan restaurants in New York City.   Unrelated note: it seems from the food we had that Sri Lankans love eggs.  I think there was at least one egg in almost every dish we had.  I think that's pretty great.  I love eggs, too.\\n\\nSome links:\\nThe Toronto Talk thread I started.\\nhttp://www.yelp.ca/topic/toronto-visiting-toronto-from-nyc-next-week-what-do-you-recommend\\n\\nKat F's List Of Things For New Yorkers To Do In Toronto.\\nhttp://www.yelp.com/list/list-of-things-for-new-yorkers-to-do-in-toronto-toronto\""
      ]
     },
     "execution_count": 44,
     "metadata": {},
     "output_type": "execute_result"
    }
   ],
   "source": [
    "unknown_texts[245]"
   ]
  },
  {
   "cell_type": "code",
   "execution_count": 45,
   "metadata": {},
   "outputs": [
    {
     "data": {
      "text/plain": [
       "30930"
      ]
     },
     "execution_count": 45,
     "metadata": {},
     "output_type": "execute_result"
    }
   ],
   "source": [
    "len(known_texts)"
   ]
  },
  {
   "cell_type": "code",
   "execution_count": 46,
   "metadata": {
    "collapsed": true
   },
   "outputs": [],
   "source": [
    "total = 30000\n",
    "half = int(total/2)\n",
    "\n",
    "known_same = known_texts[:half]\n",
    "unknown_same = unknown_texts[:half]\n",
    "\n",
    "known_diff = known_texts[half:total]\n",
    "unknown_diff = unknown_texts[half:total]\n",
    "\n",
    "# move unknown diffs up by one\n",
    "unknown_diff = unknown_diff[1:] + [unknown_diff[0]]\n",
    "\n",
    "knowns = known_same + known_diff\n",
    "unknowns = unknown_same + unknown_diff"
   ]
  },
  {
   "cell_type": "code",
   "execution_count": 47,
   "metadata": {},
   "outputs": [
    {
     "data": {
      "text/plain": [
       "30000"
      ]
     },
     "execution_count": 47,
     "metadata": {},
     "output_type": "execute_result"
    }
   ],
   "source": [
    "len(knowns)"
   ]
  },
  {
   "cell_type": "code",
   "execution_count": 48,
   "metadata": {
    "collapsed": true
   },
   "outputs": [],
   "source": [
    "n = int(len(knowns)/2)\n",
    "labels = ([1] * n) + ([0] * n)"
   ]
  },
  {
   "cell_type": "code",
   "execution_count": 60,
   "metadata": {},
   "outputs": [
    {
     "name": "stdout",
     "output_type": "stream",
     "text": [
      "CPU times: user 5min 8s, sys: 4.31 s, total: 5min 12s\n",
      "Wall time: 5min 12s\n"
     ]
    }
   ],
   "source": [
    "%%time\n",
    "from sklearn.feature_extraction.text import TfidfVectorizer\n",
    "from sklearn.pipeline import FeatureUnion\n",
    "char_tf = TfidfVectorizer(analyzer='char', ngram_range=(2,4), min_df=5, lowercase=False)\n",
    "word_tf = TfidfVectorizer(ngram_range=(1,2), lowercase=False, min_df=5)\n",
    "vectorizer = FeatureUnion([\n",
    "    ('char', char_tf),\n",
    "    ('word', word_tf)\n",
    "])\n",
    "\n",
    "# vectorizer = TfidfVectorizer(lowercase=False, min_df=5)\n",
    "\n",
    "vectorizer.fit(knowns + unknowns)"
   ]
  },
  {
   "cell_type": "code",
   "execution_count": 61,
   "metadata": {},
   "outputs": [
    {
     "name": "stdout",
     "output_type": "stream",
     "text": [
      ".\n",
      "CPU times: user 6min 11s, sys: 8.11 s, total: 6min 19s\n",
      "Wall time: 6min 20s\n"
     ]
    }
   ],
   "source": [
    "%%time\n",
    "known_vecs = vectorizer.transform(knowns)\n",
    "print(\".\")\n",
    "unknown_vecs = vectorizer.transform(unknowns)"
   ]
  },
  {
   "cell_type": "code",
   "execution_count": 62,
   "metadata": {},
   "outputs": [
    {
     "data": {
      "text/plain": [
       "30000"
      ]
     },
     "execution_count": 62,
     "metadata": {},
     "output_type": "execute_result"
    }
   ],
   "source": [
    "len(knowns)"
   ]
  },
  {
   "cell_type": "code",
   "execution_count": 63,
   "metadata": {},
   "outputs": [
    {
     "data": {
      "text/plain": [
       "(30000, 709706)"
      ]
     },
     "execution_count": 63,
     "metadata": {},
     "output_type": "execute_result"
    }
   ],
   "source": [
    "known_vecs.shape"
   ]
  },
  {
   "cell_type": "code",
   "execution_count": 64,
   "metadata": {},
   "outputs": [
    {
     "data": {
      "text/plain": [
       "30000"
      ]
     },
     "execution_count": 64,
     "metadata": {},
     "output_type": "execute_result"
    }
   ],
   "source": [
    "len(labels)"
   ]
  },
  {
   "cell_type": "code",
   "execution_count": 65,
   "metadata": {},
   "outputs": [
    {
     "data": {
      "text/plain": [
       "[13891, 17312, 21909, 14342, 14699, 8793, 14256, 17930, 23093, 1466]"
      ]
     },
     "execution_count": 65,
     "metadata": {},
     "output_type": "execute_result"
    }
   ],
   "source": [
    "from random import shuffle\n",
    "indices = list(range(len(labels)))\n",
    "shuffle(indices)\n",
    "indices[:10]"
   ]
  },
  {
   "cell_type": "code",
   "execution_count": 66,
   "metadata": {},
   "outputs": [
    {
     "data": {
      "text/plain": [
       "30000"
      ]
     },
     "execution_count": 66,
     "metadata": {},
     "output_type": "execute_result"
    }
   ],
   "source": [
    "len(indices)"
   ]
  },
  {
   "cell_type": "code",
   "execution_count": 67,
   "metadata": {
    "collapsed": true
   },
   "outputs": [],
   "source": [
    "import numpy as np\n",
    "labels = np.array(labels)"
   ]
  },
  {
   "cell_type": "code",
   "execution_count": 68,
   "metadata": {
    "collapsed": true
   },
   "outputs": [],
   "source": [
    "train_indices = indices[:20000]\n",
    "test_indices = indices[20000:]\n",
    "\n",
    "known_train = known_vecs[train_indices, :]\n",
    "unknown_train = unknown_vecs[train_indices, :]\n",
    "train_labels = labels[train_indices]\n",
    "\n",
    "known_test = known_vecs[test_indices, :]\n",
    "unknown_test = unknown_vecs[test_indices, :]\n",
    "test_labels = labels[test_indices]"
   ]
  },
  {
   "cell_type": "code",
   "execution_count": 69,
   "metadata": {
    "collapsed": true
   },
   "outputs": [],
   "source": [
    "from sklearn.svm import LinearSVC\n",
    "from sklearn.svm import SVC\n",
    "from sklearn.neural_network import MLPClassifier\n",
    "from sklearn.naive_bayes import MultinomialNB\n",
    "from sklearn.tree import DecisionTreeClassifier\n",
    "from sklearn.metrics import accuracy_score, classification_report\n",
    "from sklearn.model_selection import cross_val_score"
   ]
  },
  {
   "cell_type": "code",
   "execution_count": 70,
   "metadata": {},
   "outputs": [
    {
     "name": "stdout",
     "output_type": "stream",
     "text": [
      "             precision    recall  f1-score   support\n",
      "\n",
      "          0       0.77      0.76      0.77      5011\n",
      "          1       0.77      0.78      0.77      4989\n",
      "\n",
      "avg / total       0.77      0.77      0.77     10000\n",
      "\n",
      "CPU times: user 28.9 s, sys: 1.45 s, total: 30.3 s\n",
      "Wall time: 30.3 s\n"
     ]
    }
   ],
   "source": [
    "%%time\n",
    "train_pairs = np.abs(known_train - unknown_train)\n",
    "test_pairs = np.abs(known_test - unknown_test)\n",
    "svm = LinearSVC()\n",
    "svm.fit(train_pairs, train_labels)\n",
    "preds = svm.predict(test_pairs)\n",
    "print(classification_report(test_labels, preds))\n",
    "\n",
    "# print(cross_val_score(LinearSVC(), np.abs(known_vecs - unknown_vecs), labels, cv=5))\n",
    "# print(np.mean(cross_val_score(LinearSVC(), np.abs(known_vecs - unknown_vecs), labels, cv=3)))"
   ]
  }
 ],
 "metadata": {
  "kernelspec": {
   "display_name": "Python 3",
   "language": "python",
   "name": "python3"
  },
  "language_info": {
   "codemirror_mode": {
    "name": "ipython",
    "version": 3
   },
   "file_extension": ".py",
   "mimetype": "text/x-python",
   "name": "python",
   "nbconvert_exporter": "python",
   "pygments_lexer": "ipython3",
   "version": "3.4.3"
  }
 },
 "nbformat": 4,
 "nbformat_minor": 2
}
