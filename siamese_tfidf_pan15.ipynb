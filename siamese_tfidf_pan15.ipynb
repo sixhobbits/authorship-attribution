{
 "cells": [
  {
   "cell_type": "markdown",
   "metadata": {},
   "source": [
    "# Siamese Networks for Authorship Verification\n",
    "\n",
    "Siamese Networks were first used decades ago for Signature Verification, and with the new interest in neural networks and deep learning, they are more recently being used for all kinds of verification tasks. Instead of teaching the network to recognise examples of a specific class by giving it lots of labeled examples of that specific class, you instead have it learn a distance function between pairs of examples. It learns to tell if two examples are from the same class or from different classes.\n",
    "\n",
    "For example, image re-identification is used for automatic access control. A single photo of a Alice as a reference or ID photo. When Alice wants to access the building, a new photo is taken at the door and compared to her reference photo. The door opens if the algorithm detects a match. With a simple classification neural net, we'd need to show the net many examples of Alice, in different poses, wearing different clothing, with her face at different angles. A siamese network can detect Alice even if has never seen her before. Instead of learning what Alice looks like, it learns to tell whether to photos are of the same person by learning a distance function between pairs of photos.\n",
    "\n",
    "We show here how a Siamese Network can be used for authorship verification -- given two texts, it predicts whether or not they are written by the same author, even if has never seen other texts by that author.\n",
    "\n",
    "Most of the code for the Siamese Network comes from here: https://github.com/fchollet/keras/blob/master/examples/mnist_siamese_graph.py"
   ]
  },
  {
   "cell_type": "code",
   "execution_count": 121,
   "metadata": {
    "collapsed": true
   },
   "outputs": [],
   "source": [
    "import os\n",
    "import numpy as np\n",
    "from sklearn.feature_extraction.text import TfidfVectorizer\n",
    "from sklearn.pipeline import FeatureUnion\n",
    "\n",
    "from __future__ import absolute_import\n",
    "from __future__ import print_function\n",
    "import numpy as np\n",
    "np.random.seed(1337)  # for reproducibility\n",
    "\n",
    "import random\n",
    "from keras.datasets import mnist\n",
    "from keras.models import Sequential, Model\n",
    "from keras.layers import Dense, Dropout, Input, Lambda\n",
    "from keras.optimizers import RMSprop\n",
    "from keras import backend as K\n",
    "\n",
    "from collections import Counter\n",
    "from sklearn.metrics import classification_report"
   ]
  },
  {
   "cell_type": "code",
   "execution_count": 198,
   "metadata": {
    "collapsed": true
   },
   "outputs": [],
   "source": [
    "# paths to PAN datasets, available from http://pan.webis.de/clef15/pan15-web/author-identification.html\n",
    "# and http://pan.webis.de/clef14/pan14-web/author-identification.html\n",
    "pan15train = \"/data/pan15-authorship-verification-training-dataset-english-2015-04-19/\"\n",
    "pan15test = \"/data/pan15-authorship-verification-test-dataset2-english-2015-04-19/\"\n",
    "pan14train = \"/data/pan14-author-verification-training-corpus-english-novels-2014-04-22/\"\n",
    "pan14test = \"/data/pan14-author-verification-test-corpus2-english-novels-2014-04-22/\"\n",
    "pan14train_e = \"/data/pan14-author-verification-training-corpus-english-essays-2014-04-22/\"\n",
    "pan14test_e = \"/data/pan14-author-verification-test-corpus2-english-essays-2014-04-22/\""
   ]
  },
  {
   "cell_type": "code",
   "execution_count": 184,
   "metadata": {
    "collapsed": true
   },
   "outputs": [],
   "source": [
    "def read_file(filepath):\n",
    "    with open(filepath) as f:\n",
    "        s = f.read()\n",
    "    return s\n",
    "\n",
    "def load_pan_data(directory, prefix=\"E\"):\n",
    "    \"\"\"Load known and unknown texts in the PAN data format\"\"\"\n",
    "    # FIXME: assumes one known file per author, which is fine for English datasets only\n",
    "    authors = sorted([x for x in os.listdir(directory) if x.startswith(prefix)])\n",
    "    known_texts = []\n",
    "    unknown_texts = []\n",
    "    for author in authors:\n",
    "        kf = os.path.join(directory, author, \"known01.txt\")\n",
    "        uf = os.path.join(directory, author, \"unknown.txt\")\n",
    "        known_texts.append(read_file(kf))\n",
    "        unknown_texts.append(read_file(uf))\n",
    "        \n",
    "    truthfile = os.path.join(directory, \"truth.txt\")\n",
    "    with open(truthfile) as f:\n",
    "        lines = f.read().strip().split(\"\\n\")\n",
    "    y = [1 if line.split()[1] == \"Y\" else 0 for line in lines]\n",
    "    y = np.array(y)\n",
    "    return known_texts, unknown_texts, y\n",
    "\n",
    "def create_pairs(knownX, unknownX):\n",
    "    \"\"\"Creates pairs of known and unknown texts\"\"\"\n",
    "    pairs = []\n",
    "    for i in range(len(knownX)):\n",
    "        pairs.append([knownX[i], unknownX[i]])\n",
    "    pairs = np.array(pairs)\n",
    "    return pairs"
   ]
  },
  {
   "cell_type": "markdown",
   "metadata": {},
   "source": [
    "##  Vectorization\n",
    "We represent the text using Tfidf vectors of word- and character n-grams.\n",
    "\n",
    "Setting `min_df` quite high seems to work well in practice. Previous work has shown that it is the use of common words, especially function words, that differentiates authors, rather than uncommon words, so this makes sense. It also is good for practical reasons -- we need to convert the Sparse Tfidf vectors to dense vectors to feed into Keras, so we can't use too many features"
   ]
  },
  {
   "cell_type": "code",
   "execution_count": 185,
   "metadata": {
    "collapsed": true
   },
   "outputs": [],
   "source": [
    "# Vectorizing\n",
    "def get_fit_vectorizer(texts):\n",
    "    \"\"\"Fit a Tfidf vectorizer on character and word n-grams\"\"\"\n",
    "    char_tf = TfidfVectorizer(analyzer='char', ngram_range=(2,4), min_df=0.3)\n",
    "    word_tf = TfidfVectorizer(ngram_range=(1,2), min_df=0.05)\n",
    "    vec = FeatureUnion([\n",
    "        ('char', char_tf),\n",
    "        ('word', word_tf)\n",
    "    ])\n",
    "    vec.fit(texts)\n",
    "    return vec\n",
    "\n",
    "def vectorize_and_pair(knowntexts, unknowntexts, vectorizer):\n",
    "    \"\"\"Vectorize texts with a pre-fitted vectorizer\"\"\"\n",
    "    known_X = vectorizer.transform(knowntexts).todense()  # dense arrays are inefficient but easier to work with\n",
    "    unknown_X = vectorizer.transform(unknowntexts).todense()\n",
    "    pairs = create_pairs(known_X, unknown_X)\n",
    "    pairs = pairs.squeeze()  # TODO: why do we pick up an extra dimension?\n",
    "    return pairs"
   ]
  },
  {
   "cell_type": "code",
   "execution_count": 199,
   "metadata": {
    "collapsed": false
   },
   "outputs": [],
   "source": [
    "# - read data\n",
    "p15train_known, p15train_unknown, p15train_labels = load_pan_data(pan15train)\n",
    "p15test_known, p15test_unknown, p15test_labels = load_pan_data(pan15test)\n",
    "\n",
    "# - or uncomment to run on novels from 2014 -- still do OK, but not great\n",
    "# p15train_known, p15train_unknown, p15train_labels = load_pan_data(pan14train)\n",
    "# p15test_known, p15test_unknown, p15test_labels = load_pan_data(pan14test)\n",
    "\n",
    "# - or on essays from '14 -- worse than guessing performance\n",
    "# p15train_known, p15train_unknown, p15train_labels = load_pan_data(pan14train_e)\n",
    "# p15test_known, p15test_unknown, p15test_labels = load_pan_data(pan14test_e)\n",
    "\n",
    "# - fit the vectorizer on the training data (known and unknown texts)\n",
    "vectorizer = get_fit_vectorizer(p15train_known + p15train_unknown)\n",
    "\n",
    "# - tranform the texts into pairs of vectors\n",
    "train_pairs = vectorize_and_pair(p15train_known, p15train_unknown, vectorizer)\n",
    "test_pairs = vectorize_and_pair(p15test_known, p15test_unknown, vectorizer)"
   ]
  },
  {
   "cell_type": "code",
   "execution_count": 200,
   "metadata": {
    "collapsed": false,
    "deletable": true,
    "editable": true
   },
   "outputs": [
    {
     "data": {
      "text/plain": [
       "(100, 2, 3124)"
      ]
     },
     "execution_count": 200,
     "metadata": {},
     "output_type": "execute_result"
    }
   ],
   "source": [
    "# We should be left with (num_samples, 2, num_features) as a shape\n",
    "train_pairs.shape"
   ]
  },
  {
   "cell_type": "code",
   "execution_count": 201,
   "metadata": {
    "collapsed": false,
    "deletable": true,
    "editable": true
   },
   "outputs": [],
   "source": [
    "def euclidean_distance(vects):\n",
    "    x, y = vects\n",
    "    return K.sqrt(K.sum(K.square(x - y), axis=1, keepdims=True))\n",
    "\n",
    "def eucl_dist_output_shape(shapes):\n",
    "    shape1, shape2 = shapes\n",
    "    return (shape1[0], 1)\n",
    "\n",
    "def contrastive_loss(y_true, y_pred):\n",
    "    '''Contrastive loss from Hadsell-et-al.'06\n",
    "    http://yann.lecun.com/exdb/publis/pdf/hadsell-chopra-lecun-06.pdf\n",
    "    '''\n",
    "    margin = 1\n",
    "    return K.mean(y_true * K.square(y_pred) + (1 - y_true) * K.square(K.maximum(margin - y_pred, 0)))\n",
    "\n",
    "def create_base_network(input_dim):\n",
    "    '''Base network to be shared (eq. to feature extraction).\n",
    "    '''\n",
    "    # The number and size of layers is not that important\n",
    "    # Dropout has a big (negative?) effect\n",
    "    seq = Sequential()\n",
    "    seq.add(Dense(256, input_shape=(input_dim,), activation='relu'))\n",
    "    seq.add(Dense(256, activation='relu'))      \n",
    "    seq.add(Dense(256, activation='relu'))\n",
    "    seq.add(Dense(256, activation='relu'))\n",
    "    seq.add(Dense(256, activation='relu'))\n",
    "    return seq\n",
    "\n",
    "def compute_accuracy(predictions, labels):\n",
    "    return np.mean(np.equal(predictions.ravel() < 0.5, labels))\n",
    "\n",
    "def train(train_pairs, train_labels, epochs=20):\n",
    "    input_dim = train_pairs.shape[-1]\n",
    "\n",
    "    # network definition\n",
    "    base_network = create_base_network(input_dim)\n",
    "\n",
    "    input_a = Input(shape=(input_dim,))\n",
    "    input_b = Input(shape=(input_dim,))\n",
    "\n",
    "    # we re-use the same `base_network` - weights will be shared across the branches\n",
    "    processed_a = base_network(input_a)\n",
    "    processed_b = base_network(input_b)\n",
    "    distance = Lambda(euclidean_distance, output_shape=eucl_dist_output_shape)([processed_a, processed_b])\n",
    "    model = Model(inputs=[input_a, input_b], outputs=distance)\n",
    "    \n",
    "    # batch size is very sensitive\n",
    "    rms = RMSprop()\n",
    "    model.compile(loss=contrastive_loss, optimizer=rms)\n",
    "    model.fit([train_pairs[:, 0], train_pairs[:, 1]], train_labels,\n",
    "              validation_split=0.0,\n",
    "              batch_size=10,\n",
    "              epochs=epochs, verbose=0)\n",
    "    return model\n",
    "\n",
    "def evaluate(test_pairs, test_y, model, threshold=0.5):\n",
    "    \"\"\"Predict and Evaluate for a test set\"\"\"\n",
    "    predicted_distances = model.predict([test_pairs[:, 0], test_pairs[:, 1]])\n",
    "    predictions = [1 if p[0] <= threshold else 0 for p in predicted_distances]  # close to zero is a small distance and therefore 'same' prediction\n",
    "    print(Counter(predictions))  # useful for balanced datasets -- we can see if we need to adjust threshold\n",
    "    print(classification_report(test_y, predictions))\n",
    "    return predicted_distances\n"
   ]
  },
  {
   "cell_type": "markdown",
   "metadata": {},
   "source": [
    "## Training and Testing\n",
    "\n",
    "We attempt the original task (train on 100 pairs and test on 500) as well as the reverse (train on 500 and test on 100.) Results are a bit variable, but should be 75-80 for test and ~85-90 for train. Delete `verbose=0` above if you want to see the training progress -- training should only take a couple of minutes though."
   ]
  },
  {
   "cell_type": "code",
   "execution_count": 202,
   "metadata": {
    "collapsed": false,
    "deletable": true,
    "editable": true
   },
   "outputs": [
    {
     "name": "stdout",
     "output_type": "stream",
     "text": [
      "Counter({1: 252, 0: 248})\n",
      "             precision    recall  f1-score   support\n",
      "\n",
      "          0       0.78      0.78      0.78       250\n",
      "          1       0.78      0.78      0.78       250\n",
      "\n",
      "avg / total       0.78      0.78      0.78       500\n",
      "\n",
      "Counter({0: 56, 1: 44})\n",
      "             precision    recall  f1-score   support\n",
      "\n",
      "          0       0.84      0.94      0.89        50\n",
      "          1       0.93      0.82      0.87        50\n",
      "\n",
      "avg / total       0.89      0.88      0.88       100\n",
      "\n"
     ]
    }
   ],
   "source": [
    "# The original PAN 15 task -- train on 100 example pairs and test on 500\n",
    "model = train(train_pairs, p15train_labels, 20)\n",
    "distances = evaluate(test_pairs, p15test_labels, model)\n",
    "\n",
    "# The reverse is interesting too, especially as the data is quite different (see distance plots below)\n",
    "# Train on 500 and test on 100\n",
    "model2 = train(test_pairs, p15test_labels, 20)\n",
    "distances2 = evaluate(train_pairs, p15train_labels, model2)"
   ]
  },
  {
   "cell_type": "markdown",
   "metadata": {},
   "source": [
    "## Tuning precision and recall\n",
    "Because we learned a distance function, the further the two pairs are from each other, the more confident we are that they're a different author. Therefore, we can use a low threshold for a high precision on same-author (we only predict that two texts are by the same author if the predicted distance is very small) or a high threshold for a high precision on different-author. Below we should get ~0.95 precision on 1 (same author) and then ~0.96 on 0, while keeping recall reasonable."
   ]
  },
  {
   "cell_type": "code",
   "execution_count": 205,
   "metadata": {
    "collapsed": false
   },
   "outputs": [
    {
     "name": "stdout",
     "output_type": "stream",
     "text": [
      "Counter({0: 377, 1: 123})\n",
      "             precision    recall  f1-score   support\n",
      "\n",
      "          0       0.63      0.96      0.76       250\n",
      "          1       0.91      0.45      0.60       250\n",
      "\n",
      "avg / total       0.77      0.70      0.68       500\n",
      "\n"
     ]
    }
   ],
   "source": [
    "_ = evaluate(test_pairs, p15test_labels, model, 0.2)"
   ]
  },
  {
   "cell_type": "code",
   "execution_count": 206,
   "metadata": {
    "collapsed": false
   },
   "outputs": [
    {
     "name": "stdout",
     "output_type": "stream",
     "text": [
      "Counter({1: 339, 0: 161})\n",
      "             precision    recall  f1-score   support\n",
      "\n",
      "          0       0.94      0.60      0.73       250\n",
      "          1       0.71      0.96      0.81       250\n",
      "\n",
      "avg / total       0.82      0.78      0.77       500\n",
      "\n"
     ]
    }
   ],
   "source": [
    "_ = evaluate(test_pairs, p15test_labels, model, 0.8)"
   ]
  },
  {
   "cell_type": "markdown",
   "metadata": {},
   "source": [
    "## Visually comparing our learned distance function to a standard one\n",
    "\n",
    "We can see that our distance function represents authorship style by comparing it to euclidean distance. Note that in some cases (i.e., the test dataset) a simple distance function provide an above-guessing baseline."
   ]
  },
  {
   "cell_type": "code",
   "execution_count": 207,
   "metadata": {
    "collapsed": false,
    "deletable": true,
    "editable": true
   },
   "outputs": [],
   "source": [
    "from scipy.spatial.distance import euclidean, cosine\n",
    "%matplotlib inline\n",
    "from matplotlib import pyplot as plt\n",
    "\n",
    "def plot_texts_by_distance(pairs, labels):\n",
    "    dists = [euclidean(pairs[i][0], pairs[i][1]) for i in range(len(pairs))]\n",
    "    same = [x for i, x in enumerate(dists) if labels[i]]\n",
    "    diff = [x for i, x in enumerate(dists) if not labels[i]]\n",
    "    plt.scatter(range(len(same)), same)\n",
    "    plt.scatter(range(len(same)), diff)"
   ]
  },
  {
   "cell_type": "code",
   "execution_count": 208,
   "metadata": {
    "collapsed": false,
    "deletable": true,
    "editable": true
   },
   "outputs": [
    {
     "data": {
      "image/png": "[encoded data removed]",
      "text/plain": [
       "<matplotlib.figure.Figure at 0x10b987c50>"
      ]
     },
     "metadata": {},
     "output_type": "display_data"
    }
   ],
   "source": [
    "# The training data using euclidean distance\n",
    "plot_texts_by_distance(train_pairs, p15train_labels)"
   ]
  },
  {
   "cell_type": "code",
   "execution_count": 209,
   "metadata": {
    "collapsed": false,
    "deletable": true,
    "editable": true
   },
   "outputs": [
    {
     "data": {
      "image/png": "[encoded data removed]",
      "text/plain": [
       "<matplotlib.figure.Figure at 0x10b808710>"
      ]
     },
     "metadata": {},
     "output_type": "display_data"
    }
   ],
   "source": [
    "# The test data using euclidean distance\n",
    "plot_texts_by_distance(test_pairs, p15test_labels)"
   ]
  },
  {
   "cell_type": "code",
   "execution_count": 210,
   "metadata": {
    "collapsed": false,
    "deletable": true,
    "editable": true
   },
   "outputs": [
    {
     "data": {
      "text/plain": [
       "<matplotlib.collections.PathCollection at 0x1101719b0>"
      ]
     },
     "execution_count": 210,
     "metadata": {},
     "output_type": "execute_result"
    },
    {
     "data": {
      "image/png": "[encoded data removed]",
      "text/plain": [
       "<matplotlib.figure.Figure at 0x10f696470>"
      ]
     },
     "metadata": {},
     "output_type": "display_data"
    }
   ],
   "source": [
    "dists = distances\n",
    "same = [x for i, x in enumerate(dists) if p15test_labels[i]]\n",
    "diff = [x for i, x in enumerate(dists) if not p15test_labels[i]]\n",
    "plt.scatter(range(len(same)), same)\n",
    "plt.scatter(range(len(same)), diff)"
   ]
  },
  {
   "cell_type": "code",
   "execution_count": 211,
   "metadata": {
    "collapsed": false,
    "deletable": true,
    "editable": true
   },
   "outputs": [
    {
     "data": {
      "text/plain": [
       "<matplotlib.collections.PathCollection at 0x12936deb8>"
      ]
     },
     "execution_count": 211,
     "metadata": {},
     "output_type": "execute_result"
    },
    {
     "data": {
      "image/png": "[encoded data removed]",
      "text/plain": [
       "<matplotlib.figure.Figure at 0x12a784438>"
      ]
     },
     "metadata": {},
     "output_type": "display_data"
    }
   ],
   "source": [
    "dists = distances2\n",
    "same = [x for i, x in enumerate(dists) if p15train_labels[i]]\n",
    "diff = [x for i, x in enumerate(dists) if not p15train_labels[i]]\n",
    "plt.scatter(range(len(same)), same)\n",
    "plt.scatter(range(len(same)), diff)"
   ]
  },
  {
   "cell_type": "code",
   "execution_count": null,
   "metadata": {
    "collapsed": true
   },
   "outputs": [],
   "source": []
  },
  {
   "cell_type": "code",
   "execution_count": null,
   "metadata": {
    "collapsed": true
   },
   "outputs": [],
   "source": []
  }
 ],
 "metadata": {
  "kernelspec": {
   "display_name": "Python 3",
   "language": "python",
   "name": "python3"
  },
  "language_info": {
   "codemirror_mode": {
    "name": "ipython",
    "version": 3
   },
   "file_extension": ".py",
   "mimetype": "text/x-python",
   "name": "python",
   "nbconvert_exporter": "python",
   "pygments_lexer": "ipython3",
   "version": "3.6.0"
  }
 },
 "nbformat": 4,
 "nbformat_minor": 2
}
